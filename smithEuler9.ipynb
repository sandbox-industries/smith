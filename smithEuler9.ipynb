{
 "cells": [
  {
   "cell_type": "markdown",
   "metadata": {},
   "source": [
    "# Euler #9\n",
    "<font size=\"5\"><p>A Pythagorean triplet is a set of three natural numbers, <var>a</var> &lt; <var>b</var> &lt; <var>c</var>, for which, <var>a</var><sup>2</sup> + <var>b</var><sup>2</sup> = <var>c</var><sup>2</sup></p>\n",
    "    <p></p>  \n",
    "<p>For example, 3<sup>2</sup> + 4<sup>2</sup> = 9 + 16 = 25 = 5<sup>2</sup>.</p>\n",
    "    \n",
    "<p>There exists exactly one Pythagorean triplet for which <var>a</var> + <var>b</var> + <var>c</var> = 1000. Find the product <var>abc</var>.</p></font>"
   ]
  },
  {
   "cell_type": "code",
   "execution_count": 1,
   "metadata": {},
   "outputs": [],
   "source": [
    "import sys"
   ]
  },
  {
   "cell_type": "code",
   "execution_count": 2,
   "metadata": {},
   "outputs": [],
   "source": [
    "sumABC=1000\n",
    "c=sumABC-3\n",
    "b=sumABC-4\n",
    "a=sumABC-5"
   ]
  },
  {
   "cell_type": "code",
   "execution_count": 3,
   "metadata": {},
   "outputs": [],
   "source": [
    "cList=sorted(list(range(1,c+1)),reverse=True)[:-2]\n",
    "bList=sorted(list(range(1,b+1)),reverse=True)[:-1]\n",
    "aList=sorted(list(range(1,a+1)),reverse=True)"
   ]
  },
  {
   "attachments": {},
   "cell_type": "markdown",
   "metadata": {},
   "source": [
    "# Smith's code be like!\n",
    "<img src=\"https://gif-finder.com/wp-content/uploads/2015/11/Sloth-Laugh.gif?v=2\" width=\"500\"/>"
   ]
  },
  {
   "cell_type": "code",
   "execution_count": 4,
   "metadata": {
    "scrolled": true
   },
   "outputs": [
    {
     "name": "stdout",
     "output_type": "stream",
     "text": [
      "working on c value 573 of 995: 57.6% complete! And we've processed 535102855 number combinations\n",
      "\n",
      "\n",
      "\n",
      "***********************************************WE HAVE A WINNER!*************************************************** \n",
      "**********************       CONGRATULATIONS a= 200 b= 375 c= 425 YOU ARE THE SOLUTION!      ********************** \n",
      "Your sum = 1000 \n",
      "Your numbers are ordered where a<b<c \n",
      "And to top it off you meet the condition of a**2 + b**2 = c**2 \n",
      "\n",
      "\n",
      "\n",
      "\n",
      "working on c value 995 of 995: 100.0% complete! And we've processed 820400386 number combinations"
     ]
    }
   ],
   "source": [
    "A=0\n",
    "B=0\n",
    "C=0\n",
    "n=1\n",
    "for i in range(len(cList)):\n",
    "    sys.stdout.write(\"\\rworking on c value \"+ str(i+1)+\" of \"+str(len(cList))+\": \"+str(round(((i+1)/(len(cList)))*100,1))+\"% complete! And we've processed \"+str(n)+\" number combinations\")\n",
    "    sys.stdout.flush()\n",
    "    \n",
    "    for j in range(len(bList)):\n",
    "        \n",
    "        for k in range(len(cList)):\n",
    "            n+=1\n",
    "            \n",
    "            if sum([cList[i],bList[j],aList[k]])==sumABC:\n",
    "                \n",
    "                if aList[k]>=bList[j] or bList[j]>=cList[i]:\n",
    "                    break\n",
    "                    \n",
    "                if aList[k]**2+bList[j]**2!=cList[i]**2:\n",
    "                    break\n",
    "                    \n",
    "                if aList[k]**2+bList[j]**2==cList[i]**2:\n",
    "                    print (\"\\n\\n\\n\\n***********************************************WE HAVE A WINNER!***************************************************\",\n",
    "                           \"\\n**********************       CONGRATULATIONS a=\",aList[k],\"b=\",bList[j],\"c=\",cList[i],\"YOU ARE THE SOLUTION!      **********************\",\n",
    "                           \"\\nYour sum =\",sumABC,\n",
    "                           \"\\nYour numbers are ordered where a<b<c\",\n",
    "                           \"\\nAnd to top it off you meet the condition of a**2 + b**2 = c**2\",\n",
    "                           \"\\n\\n\\n\\n\")\n",
    "                    A=aList[k]\n",
    "                    B=bList[j]\n",
    "                    C=cList[i]\n",
    "                    break\n",
    "                \n",
    "                else:\n",
    "                    break\n",
    "                \n",
    "            else:\n",
    "                continue"
   ]
  },
  {
   "cell_type": "code",
   "execution_count": 5,
   "metadata": {},
   "outputs": [
    {
     "name": "stdout",
     "output_type": "stream",
     "text": [
      "C is 425 \n",
      "B is 375 \n",
      "a is 200 \n",
      "and the product is 31875000\n"
     ]
    }
   ],
   "source": [
    "print(\"C is\",C,\"\\nB is\",B,\"\\na is\",A, \"\\nand the product is\",C*B*A)"
   ]
  }
 ],
 "metadata": {
  "kernelspec": {
   "display_name": "Python 3",
   "language": "python",
   "name": "python3"
  },
  "language_info": {
   "codemirror_mode": {
    "name": "ipython",
    "version": 3
   },
   "file_extension": ".py",
   "mimetype": "text/x-python",
   "name": "python",
   "nbconvert_exporter": "python",
   "pygments_lexer": "ipython3",
   "version": "3.7.6"
  }
 },
 "nbformat": 4,
 "nbformat_minor": 4
}
